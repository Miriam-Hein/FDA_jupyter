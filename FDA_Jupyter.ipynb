{
 "cells": [
  {
   "cell_type": "code",
   "execution_count": 1,
   "id": "f15e8d0a-111a-4e64-b513-2c557be457d6",
   "metadata": {},
   "outputs": [],
   "source": [
    "i=1\n",
    "j=2"
   ]
  },
  {
   "cell_type": "code",
   "execution_count": 5,
   "id": "a014f1f5-a6fe-4154-84c1-b65b8f9700fb",
   "metadata": {},
   "outputs": [],
   "source": [
    "k=i+j"
   ]
  },
  {
   "cell_type": "code",
   "execution_count": 6,
   "id": "419fe24d-3513-49f0-96f3-e15536b60c78",
   "metadata": {},
   "outputs": [
    {
     "data": {
      "text/plain": [
       "3"
      ]
     },
     "execution_count": 6,
     "metadata": {},
     "output_type": "execute_result"
    }
   ],
   "source": [
    "k"
   ]
  },
  {
   "cell_type": "markdown",
   "id": "380b8475-30d5-4b18-98c7-b2e4cc9abbe6",
   "metadata": {},
   "source": [
    "# I am a heading\n",
    "\n",
    "- I am a list\n",
    "- I am a list\n",
    "- I am the third item \n",
    "\n",
    "![](https://www.rspca.org.uk/webContent/staticImages/Infographics/DogWorried3.jpg)\n",
    "\n",
    "**Bold text**"
   ]
  },
  {
   "cell_type": "code",
   "execution_count": null,
   "id": "c0ce0eba-6a3a-4bef-9928-8d1f6e7bfe64",
   "metadata": {},
   "outputs": [],
   "source": []
  }
 ],
 "metadata": {
  "kernelspec": {
   "display_name": "Python 3",
   "language": "python",
   "name": "python3"
  },
  "language_info": {
   "codemirror_mode": {
    "name": "ipython",
    "version": 3
   },
   "file_extension": ".py",
   "mimetype": "text/x-python",
   "name": "python",
   "nbconvert_exporter": "python",
   "pygments_lexer": "ipython3",
   "version": "3.8.8"
  }
 },
 "nbformat": 4,
 "nbformat_minor": 5
}
